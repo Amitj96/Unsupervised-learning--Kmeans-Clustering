{
 "cells": [
  {
   "cell_type": "code",
   "execution_count": 1,
   "metadata": {},
   "outputs": [],
   "source": [
    "# load these packages\n",
    "from pyspark.ml import feature\n",
    "from pyspark.ml import clustering\n",
    "from pyspark.ml import Pipeline\n",
    "from pyspark.ml import pipeline\n",
    "from pyspark.sql import functions as fn\n",
    "import numpy as np\n",
    "from pyspark.sql import SparkSession\n",
    "from pyspark.ml import feature, regression, evaluation, Pipeline\n",
    "from pyspark.sql import functions as fn, Row\n",
    "import matplotlib.pyplot as plt\n",
    "spark = SparkSession.builder.getOrCreate()\n",
    "sc = spark.sparkContext\n",
    "import pandas as pd"
   ]
  },
  {
   "cell_type": "markdown",
   "metadata": {},
   "source": [
    "The following dataset contains information about Spotify songs."
   ]
  },
  {
   "cell_type": "code",
   "execution_count": 2,
   "metadata": {
    "deletable": false,
    "editable": false,
    "nbgrader": {
     "checksum": "3098e88fb2bf2d67b44482d71d03ab3e",
     "grade": false,
     "grade_id": "cell-8898c04579b9221e",
     "locked": true,
     "schema_version": 1,
     "solution": false
    }
   },
   "outputs": [],
   "source": [
    "spotify_df = spark.read.csv('/datasets/spotify_songs.csv',\n",
    "                            inferSchema=True, header=True).\\\n",
    "                     orderBy(['song_title', 'artist'])"
   ]
  },
  {
   "cell_type": "code",
   "execution_count": 3,
   "metadata": {},
   "outputs": [
    {
     "data": {
      "text/plain": [
       "Row(song_title='\"Beauty and the Beast - From \"\"Beauty and the Beast\"\"\"', artist='Ariana Grande', acousticness=0.152, danceability=0.494, duration_ms=227928, energy=0.542, instrumentalness=0.0, key=6, liveness=0.10099999999999999, loudness=-6.995, mode=1, speechiness=0.0277, tempo=81.34, time_signature=4.0, valence=0.24600000000000002)"
      ]
     },
     "execution_count": 3,
     "metadata": {},
     "output_type": "execute_result"
    }
   ],
   "source": [
    "spotify_df.head()"
   ]
  },
  {
   "cell_type": "markdown",
   "metadata": {},
   "source": [
    "\n",
    "\n",
    "Create a fitted pipeline `pipe_pca` that takes the features `acousticness`, `danceability`, `duration_ms`, `energy`, `instrumentalness`, `key`, `liveness`, `loudness`, `mode`, `speechiness`, `tempo`, `time_signature`, and `valence` (in that order), 2) standardize them, and 3) compute the two first principal components. The pipeline should produce a column `pc` which contains these components.\n",
    "\n",
    "Create a dataframe `spotify_pc_df` with all columns of `spotify_df`, in the same order, and the column `pc`."
   ]
  },
  {
   "cell_type": "code",
   "execution_count": 4,
   "metadata": {
    "deletable": false,
    "nbgrader": {
     "checksum": "fe5246f975004002ec6318349b882137",
     "grade": false,
     "grade_id": "cell-cab09e882ef8f6d1",
     "locked": false,
     "schema_version": 1,
     "solution": true
    }
   },
   "outputs": [
    {
     "name": "stdout",
     "output_type": "stream",
     "text": [
      "+--------------------+------------------+--------------------+-------------------+-----------+-------------------+--------------------+---+-------------------+-------------------+----+--------------------+------------------+--------------+-------------------+--------------------+--------------------+--------------------+\n",
      "|          song_title|            artist|        acousticness|       danceability|duration_ms|             energy|    instrumentalness|key|           liveness|           loudness|mode|         speechiness|             tempo|time_signature|            valence|            features|           zfeatures|                  pc|\n",
      "+--------------------+------------------+--------------------+-------------------+-----------+-------------------+--------------------+---+-------------------+-------------------+----+--------------------+------------------+--------------+-------------------+--------------------+--------------------+--------------------+\n",
      "|\"Beauty and the B...|     Ariana Grande|               0.152|              0.494|     227928|              0.542|                 0.0|  6|0.10099999999999999|             -6.995|   1|              0.0277|             81.34|           4.0|0.24600000000000002|[0.152,0.494,2279...|[-0.1374380528061...|[-0.8685751996998...|\n",
      "|\"Bizarre Love Tri...|         New Order|             0.00428| 0.7040000000000001|     405560|              0.895|                0.28| 10|              0.267|              -7.81|   1|              0.0647|           118.662|           4.0|              0.865|[0.00428,0.704000...|[-0.7059667008038...|[0.73713355270429...|\n",
      "|\"Flashlight (Swee...|  Hailee Steinfeld|               0.299|               0.51|     178320|              0.602|                 0.0|  3|              0.126|             -6.317|   1|              0.0616|           148.077|           4.0|              0.305|[0.299,0.51,17832...|[0.42831953760592...|[-0.3714796389780...|\n",
      "|\"I See the Light ...|       Mandy Moore|               0.845|               0.24|     224240|               0.16|                 0.0|  5|             0.0842|            -14.213|   1|              0.0301|            92.742|           4.0|0.19899999999999998|[0.845,0.24,22424...|[2.52970487342203...|[-4.2090287897294...|\n",
      "|\"I'll Be Good - 1...|     Rene & Angela|              0.0602| 0.8029999999999999|     446307|              0.579|             6.27E-4| 10|              0.226|-11.155999999999999|   0|0.059000000000000004|108.56700000000001|           4.0|              0.726|[0.0602,0.8029999...|[-0.4907478949817...|[-0.3838592531849...|\n",
      "|\"III. Telegraph A...|  Childish Gambino|                0.15|              0.516|     210680|              0.718|              0.0163|  5|0.16699999999999998|             -8.571|   0|               0.257|           129.857|           4.0|               0.58|[0.15,0.516,21068...|[-0.1451354349885...|[0.53124151282219...|\n",
      "|\"My Heart Will Go...|       Céline Dion|  0.7070000000000001|              0.433|     281253|              0.364|             3.75E-6|  4|              0.171|             -8.842|   1|              0.0293| 98.98100000000001|           1.0|             0.0384|[0.70700000000000...|[1.99858550283114...|[-5.0208615795793...|\n",
      "|\"String Quartet N...|Wilhelm Stenhammar|               0.971|0.33799999999999997|     455307|             0.0539| 0.32799999999999996|  9|              0.121|-21.863000000000003|   0|              0.0414|           103.861|           4.0|              0.205|[0.971,0.33799999...|[3.01463995091806...|[-6.1461450280705...|\n",
      "|\"When Will My Lif...|       Mandy Moore|               0.106|              0.677|     152333|0.43700000000000006|                 0.0|  4|             0.0897| -7.412999999999999|   1|              0.0322|           108.054|           4.0|              0.455|[0.106,0.677,1523...|[-0.3144778430030...|[-0.4130577070259...|\n",
      "|\"Wildside - From ...|      Sofia Carson|0.003970000000000...|              0.763|     187960|              0.569|             7.85E-5|  6|             0.0755|             -5.585|   1|              0.0401|           122.988|           4.0| 0.7509999999999999|[0.00397000000000...|[-0.7071597950421...|[0.74799295095914...|\n",
      "|$ave Dat Money (f...|         Lil Dicky|               0.114|              0.858|     290836| 0.6970000000000001|                 0.0|  2|0.22399999999999998| -5.361000000000001|   1|                0.23|            98.012|           4.0|              0.365|[0.114,0.858,2908...|[-0.2836883142731...|[0.58637862964117...|\n",
      "|    'Till I Collapse|            Eminem|              0.0757| 0.5720000000000001|     297893|              0.853|                 0.0|  1|             0.0798|-3.2030000000000003|   1|               0.217|           171.297|           4.0|             0.0995|[0.0757,0.5720000...|[-0.4310931830675...|[0.87023711530836...|\n",
      "|(Bonus) Break Her...|            Iamsu!|5.480000000000001E-4|              0.831|     155042|              0.373|             3.62E-4|  1|                0.1|             -6.896|   1|               0.157|            96.115|           4.0|0.35600000000000004|[5.48000000000000...|[-0.7203300159563...|[-0.1506327073122...|\n",
      "|(Everything I Do)...|       Bryan Adams|              0.0803|              0.524|     393827|              0.429|1.369999999999999...|  1|             0.0726|            -10.064|   1|              0.0279|131.20600000000002|           4.0|              0.237|[0.0803,0.524,393...|[-0.4133892040478...|[-1.7117946522045...|\n",
      "|(You Drive Me) Crazy|    Britney Spears|              0.0534|              0.748|     198067| 0.9390000000000001|                 0.0|  0|               0.32|             -4.288|   0|              0.0341|           104.001|           4.0| 0.9620000000000001|[0.0534,0.748,198...|[-0.5169189944022...|[2.00695995578768...|\n",
      "|...Baby One More ...|    Britney Spears|               0.185|              0.757|     211160|              0.725|             5.56E-5|  0|              0.568|              -4.86|   0|              0.0315|             92.96|           4.0|              0.887|[0.185,0.757,2111...|[-0.0104312467952...|[1.23802220189129...|\n",
      "|0 To 100 / The Ca...|             Drake|               0.763| 0.7070000000000001|     275227| 0.7090000000000001|                 0.0| 11|0.27399999999999997|-3.9789999999999996|   0|                0.34|            89.094|           4.0|0.49700000000000005|[0.763,0.70700000...|[2.21411220394049...|[0.22470623652492...|\n",
      "|      1-800-273-8255|             Logic|                0.56|              0.622|     250200|              0.593|                 0.0|  5|              0.175|             -7.755|   0|              0.0414|100.04799999999999|           4.0|              0.361|[0.56,0.622,25020...|[1.43282791241911...|[-1.0587481803838...|\n",
      "|      1-800-273-8255|             Logic|                0.57|              0.629|     250173| 0.5720000000000001|                 0.0|  5|              0.192|             -7.733|   0|              0.0387|           100.015|           4.0|               0.38|[0.57,0.629,25017...|[1.47131482333150...|[-1.0861712511244...|\n",
      "|10,000 Reasons (B...|       Matt Redman|              0.0839|0.45899999999999996|     256933|              0.561|                 0.0|  7|             0.0998|             -7.091|   1|              0.0271|           144.784|           4.0|              0.298|[0.0839,0.4589999...|[-0.3995339161194...|[-0.4747387906461...|\n",
      "+--------------------+------------------+--------------------+-------------------+-----------+-------------------+--------------------+---+-------------------+-------------------+----+--------------------+------------------+--------------+-------------------+--------------------+--------------------+--------------------+\n",
      "only showing top 20 rows\n",
      "\n"
     ]
    }
   ],
   "source": [
    "\n",
    "pipe_pca = Pipeline(stages=[\n",
    "    feature.VectorAssembler(inputCols=['acousticness', 'danceability', 'duration_ms', 'energy', 'instrumentalness', 'key', 'liveness', 'loudness', 'mode', 'speechiness', 'tempo', 'time_signature', 'valence'],\n",
    "                           outputCol='features'),\n",
    "    feature.StandardScaler(withMean=True,\n",
    "                           inputCol='features', outputCol='zfeatures'\n",
    "                          ),\n",
    "    feature.PCA(k=2, inputCol='zfeatures', outputCol='pc')\n",
    "]).fit(spotify_df)\n",
    "\n",
    "spotify_pc_df = pipe_pca.transform(spotify_df)\n",
    "spotify_pc_df.show()\n",
    "#raise NotImplementedError()"
   ]
  },
  {
   "cell_type": "code",
   "execution_count": 5,
   "metadata": {},
   "outputs": [],
   "source": [
    "columns_to_drop = ['artist', 'features','zfeatures','song_title']\n",
    "spotify_pc_df= spotify_pc_df.drop(*columns_to_drop)"
   ]
  },
  {
   "cell_type": "code",
   "execution_count": 6,
   "metadata": {
    "deletable": false,
    "editable": false,
    "nbgrader": {
     "checksum": "3b1f1e65c57796601a7fdccd8815eb23",
     "grade": true,
     "grade_id": "cell-b31329e505038ee3",
     "locked": true,
     "points": 10,
     "schema_version": 1,
     "solution": false
    }
   },
   "outputs": [],
   "source": [
    "# Tests for (10 pts)\n",
    "np.testing.assert_equal(type(pipe_pca),  pipeline.PipelineModel)\n",
    "np.testing.assert_equal(set(spotify_pc_df.columns), {'acousticness',\n",
    " 'danceability',\n",
    " 'duration_ms',\n",
    " 'energy',\n",
    " 'instrumentalness',\n",
    " 'key',\n",
    " 'liveness',\n",
    " 'loudness',\n",
    " 'mode',\n",
    " 'speechiness',\n",
    " 'tempo',\n",
    " 'time_signature',\n",
    " 'valence', 'pc'})\n",
    "np.testing.assert_equal(spotify_pc_df.first().pc.shape, (2, ))"
   ]
  },
  {
   "cell_type": "code",
   "execution_count": null,
   "metadata": {},
   "outputs": [],
   "source": []
  },
  {
   "cell_type": "markdown",
   "metadata": {},
   "source": [
    "\n",
    "\n",
    "Create a scatter plot with the x axis containing the first principal component and the y axis containing the second principal component of `ds_features_df`"
   ]
  },
  {
   "cell_type": "code",
   "execution_count": 7,
   "metadata": {
    "deletable": false,
    "nbgrader": {
     "checksum": "25f8bfc0359ff722d557a39233e1bfe2",
     "grade": true,
     "grade_id": "cell-cfe761874325794d",
     "locked": false,
     "points": 10,
     "schema_version": 1,
     "solution": true
    }
   },
   "outputs": [
    {
     "data": {
      "text/plain": [
       "<matplotlib.collections.PathCollection at 0x7faf03da3f98>"
      ]
     },
     "execution_count": 7,
     "metadata": {},
     "output_type": "execute_result"
    },
    {
     "data": {
      "image/png": "[encoded data removed]",
      "text/plain": [
       "<Figure size 432x288 with 1 Axes>"
      ]
     },
     "metadata": {
      "needs_background": "light"
     },
     "output_type": "display_data"
    }
   ],
   "source": [
    "\n",
    "\n",
    "pc1 = pipe_pca.stages[-1].pc.toArray()[:, 0].tolist()\n",
    "pc2 = pipe_pca.stages[-1].pc.toArray()[:, 1].tolist()\n",
    "ds_features_df = pd.DataFrame([pc1, pc2]).T.rename(columns={0: 'pc1', 1: 'pc2'})\n",
    "\n",
    "ds_features_df\n",
    "plt.scatter(pc1, pc2)\n"
   ]
  },
  {
   "cell_type": "markdown",
   "metadata": {},
   "source": [
    "\n",
    "\n",
    "Create two Pandas dataframes `pc1_pd` and `pc2_pd` with the columns `feature` and `abs_loading` that contain the top 3 features in absolute loading for the principal components 1 and 2, respetively."
   ]
  },
  {
   "cell_type": "code",
   "execution_count": 8,
   "metadata": {
    "deletable": false,
    "nbgrader": {
     "checksum": "21ba70a5a4393b6c5f5d5ce14bca6f26",
     "grade": false,
     "grade_id": "cell-f9d1641edcc927e5",
     "locked": false,
     "schema_version": 1,
     "solution": true
    }
   },
   "outputs": [],
   "source": [
    "\n",
    "listk = list(zip(['acousticness', 'danceability', 'duration_ms', 'energy', 'instrumentalness', 'key', 'liveness', 'loudness', 'mode', 'speechiness', 'tempo', 'time_signature', 'valence']))\n",
    "pc1_pd = pd.DataFrame([listk, pc1]).T.rename(columns={0: 'feature', 1: 'abs_loading'})#.sort_values('abs_loading', ascending = True).head(3)\n",
    "pc2_pd = pd.DataFrame([listk, pc2]).T.rename(columns={0: 'feature', 1: 'abs_loading'})#.sort_values('abs_loading', ascending = True).head(3)\n",
    "pc1_pd=pc1_pd.iloc[pc1_pd['abs_loading'].abs().argsort()].tail(3)\n",
    "pc2_pd=pc2_pd.iloc[pc2_pd['abs_loading'].abs().argsort()].tail(3)\n",
    "#pc1_pd=pc1_pd.sort_values('abs_loading', ascending = False)#.head(3)\n",
    "#pc2_pd=pc2_pd.iloc[pc2_pd['abs_loading'].abs().argsort()].sort_values('abs_loading', ascending = False)#.head(3)\n",
    "#pc1_pd = pc1_pd.sort_values(by =abs(pc1_pd['pc1']), ascending = True)\n"
   ]
  },
  {
   "cell_type": "code",
   "execution_count": 9,
   "metadata": {},
   "outputs": [
    {
     "data": {
      "text/html": [
       "<div>\n",
       "<style scoped>\n",
       "    .dataframe tbody tr th:only-of-type {\n",
       "        vertical-align: middle;\n",
       "    }\n",
       "\n",
       "    .dataframe tbody tr th {\n",
       "        vertical-align: top;\n",
       "    }\n",
       "\n",
       "    .dataframe thead th {\n",
       "        text-align: right;\n",
       "    }\n",
       "</style>\n",
       "<table border=\"1\" class=\"dataframe\">\n",
       "  <thead>\n",
       "    <tr style=\"text-align: right;\">\n",
       "      <th></th>\n",
       "      <th>feature</th>\n",
       "      <th>abs_loading</th>\n",
       "    </tr>\n",
       "  </thead>\n",
       "  <tbody>\n",
       "    <tr>\n",
       "      <th>0</th>\n",
       "      <td>(acousticness,)</td>\n",
       "      <td>-0.442305</td>\n",
       "    </tr>\n",
       "    <tr>\n",
       "      <th>3</th>\n",
       "      <td>(energy,)</td>\n",
       "      <td>0.496684</td>\n",
       "    </tr>\n",
       "    <tr>\n",
       "      <th>7</th>\n",
       "      <td>(loudness,)</td>\n",
       "      <td>0.50343</td>\n",
       "    </tr>\n",
       "  </tbody>\n",
       "</table>\n",
       "</div>"
      ],
      "text/plain": [
       "           feature abs_loading\n",
       "0  (acousticness,)   -0.442305\n",
       "3        (energy,)    0.496684\n",
       "7      (loudness,)     0.50343"
      ]
     },
     "execution_count": 9,
     "metadata": {},
     "output_type": "execute_result"
    }
   ],
   "source": [
    "pc1_pd"
   ]
  },
  {
   "cell_type": "code",
   "execution_count": 10,
   "metadata": {},
   "outputs": [
    {
     "data": {
      "text/html": [
       "<div>\n",
       "<style scoped>\n",
       "    .dataframe tbody tr th:only-of-type {\n",
       "        vertical-align: middle;\n",
       "    }\n",
       "\n",
       "    .dataframe tbody tr th {\n",
       "        vertical-align: top;\n",
       "    }\n",
       "\n",
       "    .dataframe thead th {\n",
       "        text-align: right;\n",
       "    }\n",
       "</style>\n",
       "<table border=\"1\" class=\"dataframe\">\n",
       "  <thead>\n",
       "    <tr style=\"text-align: right;\">\n",
       "      <th></th>\n",
       "      <th>feature</th>\n",
       "      <th>abs_loading</th>\n",
       "    </tr>\n",
       "  </thead>\n",
       "  <tbody>\n",
       "    <tr>\n",
       "      <th>6</th>\n",
       "      <td>(liveness,)</td>\n",
       "      <td>-0.362308</td>\n",
       "    </tr>\n",
       "    <tr>\n",
       "      <th>12</th>\n",
       "      <td>(valence,)</td>\n",
       "      <td>0.465056</td>\n",
       "    </tr>\n",
       "    <tr>\n",
       "      <th>1</th>\n",
       "      <td>(danceability,)</td>\n",
       "      <td>0.586402</td>\n",
       "    </tr>\n",
       "  </tbody>\n",
       "</table>\n",
       "</div>"
      ],
      "text/plain": [
       "            feature abs_loading\n",
       "6       (liveness,)   -0.362308\n",
       "12       (valence,)    0.465056\n",
       "1   (danceability,)    0.586402"
      ]
     },
     "execution_count": 10,
     "metadata": {},
     "output_type": "execute_result"
    }
   ],
   "source": [
    "pc2_pd"
   ]
  },
  {
   "cell_type": "markdown",
   "metadata": {},
   "source": [
    "create a new pipeline for PCA called `pipe_pca2` where you fit 10 principal components instead of the 3 above. Extract the `PCAModel` from the stages of this pipeline, and assign to a variable `explainedVariance` the variance explained by components of such model. Finally, assign to a variable `best_k` the value $k$ such that the ($k+1$)-th component explains less than 0.01 variance. You can use a for-loop to find such best k."
   ]
  },
  {
   "cell_type": "code",
   "execution_count": 12,
   "metadata": {
    "deletable": false,
    "nbgrader": {
     "checksum": "8f1eb781acb7a61a4176067666602247",
     "grade": false,
     "grade_id": "cell-3c9669871f98d13c",
     "locked": false,
     "schema_version": 1,
     "solution": true
    }
   },
   "outputs": [],
   "source": [
    "\n",
    "pipe_pca2 = Pipeline(stages=[\n",
    "    feature.VectorAssembler(inputCols=['acousticness', 'danceability', 'duration_ms', 'energy', 'instrumentalness', 'key', 'liveness', 'loudness', 'mode', 'speechiness', 'tempo', 'time_signature', 'valence'],\n",
    "                           outputCol='features'),\n",
    "    feature.StandardScaler(withMean=True,\n",
    "                           inputCol='features', outputCol='zfeatures'\n",
    "                          ),\n",
    "    feature.PCA(k=10, inputCol='zfeatures', outputCol='pc')\n",
    "]).fit(spotify_df)\n",
    "\n",
    "PCAModel=pipe_pca2.stages[-1]\n",
    "explainedVariance = PCAModel.explainedVariance\n"
   ]
  },
  {
   "cell_type": "code",
   "execution_count": 13,
   "metadata": {},
   "outputs": [
    {
     "name": "stdout",
     "output_type": "stream",
     "text": [
      "No component with variance less than 0.01 hence, best k is\n",
      "10\n"
     ]
    }
   ],
   "source": [
    "for i in range(len(explainedVariance)):\n",
    "    if i == len(explainedVariance)-1:\n",
    "        print(\"No component with variance less than 0.01 hence, best k is\")\n",
    "        best_k = i+1\n",
    "        break\n",
    "        \n",
    "    elif explainedVariance[i] < 0.01:\n",
    "        best_k = i+1\n",
    "        #print(\"none1\")\n",
    "        break\n",
    "    else:\n",
    "        #print(\"none\")\n",
    "        continue\n",
    "print(best_k)"
   ]
  },
  {
   "cell_type": "code",
   "execution_count": 14,
   "metadata": {},
   "outputs": [
    {
     "data": {
      "text/plain": [
       "DenseVector([0.2191, 0.1176, 0.101, 0.0866, 0.0793, 0.0746, 0.069, 0.0612, 0.0577, 0.0504])"
      ]
     },
     "execution_count": 14,
     "metadata": {},
     "output_type": "execute_result"
    }
   ],
   "source": [
    "explainedVariance"
   ]
  },
  {
   "cell_type": "code",
   "execution_count": 16,
   "metadata": {},
   "outputs": [
    {
     "name": "stdout",
     "output_type": "stream",
     "text": [
      "+--------------------+------------------+--------------------+-------------------+-----------+-------------------+--------------------+---+-------------------+-------------------+----+--------------------+------------------+--------------+-------------------+\n",
      "|          song_title|            artist|        acousticness|       danceability|duration_ms|             energy|    instrumentalness|key|           liveness|           loudness|mode|         speechiness|             tempo|time_signature|            valence|\n",
      "+--------------------+------------------+--------------------+-------------------+-----------+-------------------+--------------------+---+-------------------+-------------------+----+--------------------+------------------+--------------+-------------------+\n",
      "|\"Beauty and the B...|     Ariana Grande|               0.152|              0.494|     227928|              0.542|                 0.0|  6|0.10099999999999999|             -6.995|   1|              0.0277|             81.34|           4.0|0.24600000000000002|\n",
      "|\"Bizarre Love Tri...|         New Order|             0.00428| 0.7040000000000001|     405560|              0.895|                0.28| 10|              0.267|              -7.81|   1|              0.0647|           118.662|           4.0|              0.865|\n",
      "|\"Flashlight (Swee...|  Hailee Steinfeld|               0.299|               0.51|     178320|              0.602|                 0.0|  3|              0.126|             -6.317|   1|              0.0616|           148.077|           4.0|              0.305|\n",
      "|\"I See the Light ...|       Mandy Moore|               0.845|               0.24|     224240|               0.16|                 0.0|  5|             0.0842|            -14.213|   1|              0.0301|            92.742|           4.0|0.19899999999999998|\n",
      "|\"I'll Be Good - 1...|     Rene & Angela|              0.0602| 0.8029999999999999|     446307|              0.579|             6.27E-4| 10|              0.226|-11.155999999999999|   0|0.059000000000000004|108.56700000000001|           4.0|              0.726|\n",
      "|\"III. Telegraph A...|  Childish Gambino|                0.15|              0.516|     210680|              0.718|              0.0163|  5|0.16699999999999998|             -8.571|   0|               0.257|           129.857|           4.0|               0.58|\n",
      "|\"My Heart Will Go...|       Céline Dion|  0.7070000000000001|              0.433|     281253|              0.364|             3.75E-6|  4|              0.171|             -8.842|   1|              0.0293| 98.98100000000001|           1.0|             0.0384|\n",
      "|\"String Quartet N...|Wilhelm Stenhammar|               0.971|0.33799999999999997|     455307|             0.0539| 0.32799999999999996|  9|              0.121|-21.863000000000003|   0|              0.0414|           103.861|           4.0|              0.205|\n",
      "|\"When Will My Lif...|       Mandy Moore|               0.106|              0.677|     152333|0.43700000000000006|                 0.0|  4|             0.0897| -7.412999999999999|   1|              0.0322|           108.054|           4.0|              0.455|\n",
      "|\"Wildside - From ...|      Sofia Carson|0.003970000000000...|              0.763|     187960|              0.569|             7.85E-5|  6|             0.0755|             -5.585|   1|              0.0401|           122.988|           4.0| 0.7509999999999999|\n",
      "|$ave Dat Money (f...|         Lil Dicky|               0.114|              0.858|     290836| 0.6970000000000001|                 0.0|  2|0.22399999999999998| -5.361000000000001|   1|                0.23|            98.012|           4.0|              0.365|\n",
      "|    'Till I Collapse|            Eminem|              0.0757| 0.5720000000000001|     297893|              0.853|                 0.0|  1|             0.0798|-3.2030000000000003|   1|               0.217|           171.297|           4.0|             0.0995|\n",
      "|(Bonus) Break Her...|            Iamsu!|5.480000000000001E-4|              0.831|     155042|              0.373|             3.62E-4|  1|                0.1|             -6.896|   1|               0.157|            96.115|           4.0|0.35600000000000004|\n",
      "|(Everything I Do)...|       Bryan Adams|              0.0803|              0.524|     393827|              0.429|1.369999999999999...|  1|             0.0726|            -10.064|   1|              0.0279|131.20600000000002|           4.0|              0.237|\n",
      "|(You Drive Me) Crazy|    Britney Spears|              0.0534|              0.748|     198067| 0.9390000000000001|                 0.0|  0|               0.32|             -4.288|   0|              0.0341|           104.001|           4.0| 0.9620000000000001|\n",
      "|...Baby One More ...|    Britney Spears|               0.185|              0.757|     211160|              0.725|             5.56E-5|  0|              0.568|              -4.86|   0|              0.0315|             92.96|           4.0|              0.887|\n",
      "|0 To 100 / The Ca...|             Drake|               0.763| 0.7070000000000001|     275227| 0.7090000000000001|                 0.0| 11|0.27399999999999997|-3.9789999999999996|   0|                0.34|            89.094|           4.0|0.49700000000000005|\n",
      "|      1-800-273-8255|             Logic|                0.56|              0.622|     250200|              0.593|                 0.0|  5|              0.175|             -7.755|   0|              0.0414|100.04799999999999|           4.0|              0.361|\n",
      "|      1-800-273-8255|             Logic|                0.57|              0.629|     250173| 0.5720000000000001|                 0.0|  5|              0.192|             -7.733|   0|              0.0387|           100.015|           4.0|               0.38|\n",
      "|10,000 Reasons (B...|       Matt Redman|              0.0839|0.45899999999999996|     256933|              0.561|                 0.0|  7|             0.0998|             -7.091|   1|              0.0271|           144.784|           4.0|              0.298|\n",
      "+--------------------+------------------+--------------------+-------------------+-----------+-------------------+--------------------+---+-------------------+-------------------+----+--------------------+------------------+--------------+-------------------+\n",
      "only showing top 20 rows\n",
      "\n"
     ]
    }
   ],
   "source": [
    "spotify_df.show()"
   ]
  },
  {
   "cell_type": "markdown",
   "metadata": {},
   "source": [
    "\n",
    "\n",
    "Performed k-means on the features (not standardized) of the Spotify dataset with k = 5. Did this by creating a fitted pipeline `pipe_kmeans` that produces a column `cluster` with the cluster membership number of a song. Created a second fitted pipeline `pipe_analysis` that combines both `pipe_pca` and `pipe_kmeans` and fit it to the data. Finally, created a dataframe `spotify_features_df` that contains as columns the principal components `pc` and the cluster membership `cluster`. "
   ]
  },
  {
   "cell_type": "code",
   "execution_count": 17,
   "metadata": {
    "deletable": false,
    "nbgrader": {
     "checksum": "c9c3ae4dffacab679c275fc2aaacabd5",
     "grade": false,
     "grade_id": "cell-fee5d0c0eda772bc",
     "locked": false,
     "schema_version": 1,
     "solution": true
    }
   },
   "outputs": [
    {
     "data": {
      "text/plain": [
       "DataFrame[pc: vector, cluster: int]"
      ]
     },
     "execution_count": 17,
     "metadata": {},
     "output_type": "execute_result"
    }
   ],
   "source": [
    "\n",
    "pipe_kmeans=Pipeline(stages=[feature.VectorAssembler(inputCols=['acousticness', 'danceability', 'duration_ms', 'energy', 'instrumentalness', 'key', 'liveness', 'loudness', 'mode', 'speechiness', 'tempo', 'time_signature', 'valence'],\n",
    "                           outputCol='feature'),\n",
    "                             clustering.KMeans(k=5, featuresCol='feature', predictionCol='cluster')]).fit(spotify_df)\n",
    "pipe_analysis = Pipeline(stages=[pipe_pca,pipe_kmeans]).fit(spotify_df)\n",
    "spotify_features= pipe_analysis.transform(spotify_df).select(\"pc\",\"cluster\")\n",
    "spotify_features\n"
   ]
  },
  {
   "cell_type": "markdown",
   "metadata": {},
   "source": [
    "Below, created a plot with the x axis being the first principal component and y-axis being the second principal component, using `spotify_features`. Set the color of each song with the cluster number."
   ]
  },
  {
   "cell_type": "code",
   "execution_count": 19,
   "metadata": {
    "deletable": false,
    "nbgrader": {
     "checksum": "2ab29389c0c6b1d29a76f66c71b7e665",
     "grade": true,
     "grade_id": "cell-0c21384c9486b25c",
     "locked": false,
     "points": 10,
     "schema_version": 1,
     "solution": true
    }
   },
   "outputs": [
    {
     "data": {
      "text/plain": [
       "pc           object\n",
       "cluster    category\n",
       "dtype: object"
      ]
     },
     "execution_count": 19,
     "metadata": {},
     "output_type": "execute_result"
    }
   ],
   "source": [
    "spotify_featurespd = spotify_features.toPandas()\n",
    "spotify_featurespd.astype({'cluster': 'category'}).dtypes\n",
    "#spotify_featurespd"
   ]
  },
  {
   "cell_type": "code",
   "execution_count": 20,
   "metadata": {},
   "outputs": [],
   "source": [
    "import seaborn as sns;"
   ]
  },
  {
   "cell_type": "code",
   "execution_count": 21,
   "metadata": {},
   "outputs": [
    {
     "data": {
      "image/png": "[encoded data removed]",
      "text/plain": [
       "<Figure size 432x288 with 1 Axes>"
      ]
     },
     "metadata": {
      "needs_background": "light"
     },
     "output_type": "display_data"
    }
   ],
   "source": [
    "#data = sns.load_dataset(\"spotify_featurespd\")\n",
    "x1 = spotify_featurespd.pc.apply(lambda d:d[0])\n",
    "y1 = spotify_featurespd.pc.apply(lambda d:d[1])\n",
    "ax = sns.scatterplot(x=x1, y=y1,hue='cluster',palette=['green','orange','brown','dodgerblue','red'] ,data=spotify_featurespd)\n"
   ]
  },
  {
   "cell_type": "code",
   "execution_count": null,
   "metadata": {},
   "outputs": [],
   "source": []
  }
 ],
 "metadata": {
  "celltoolbar": "Edit Metadata",
  "kernelspec": {
   "display_name": "Python 3",
   "language": "python",
   "name": "python3"
  },
  "language_info": {
   "codemirror_mode": {
    "name": "ipython",
    "version": 3
   },
   "file_extension": ".py",
   "mimetype": "text/x-python",
   "name": "python",
   "nbconvert_exporter": "python",
   "pygments_lexer": "ipython3",
   "version": "3.7.3"
  }
 },
 "nbformat": 4,
 "nbformat_minor": 2
}
